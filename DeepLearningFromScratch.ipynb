{
 "cells": [
  {
   "cell_type": "markdown",
   "metadata": {},
   "source": [
    "# Foundations"
   ]
  },
  {
   "cell_type": "code",
   "execution_count": 12,
   "metadata": {},
   "outputs": [],
   "source": [
    "import numpy as np\n",
    "from numpy import ndarray\n",
    "import matplotlib.pyplot as plt\n",
    "\n",
    "def square(x: ndarray) -> ndarray:\n",
    "    return np.power(x, 2)\n",
    "\n",
    "def leaky_relu(x: ndarray) -> ndarray:\n",
    "    return np.maximum(0.2 * x, x)"
   ]
  },
  {
   "cell_type": "markdown",
   "metadata": {},
   "source": [
    "## 도함수 기초\n",
    "멘탈 모델 측면에서 서술해보자. 어떤 개념인가.\n",
    "\n",
    "### 수학적 서술\n",
    "$$\n",
    "\\frac{\\partial{f}}{\\partial{u}}(a) = \\lim_{\\Delta \\rightarrow 0}\\frac{f(a + \\Delta) - f(a - \\Delta)}{2 \\times \\Delta}\n",
    "$$\n",
    "\n",
    "### 다이어그램\n",
    "- 그래프의 한 점에서의 접선 기울기\n",
    "\n",
    "### 코드\n",
    "```python\n",
    "from typing import Callable\n",
    "\n",
    "def deriv(func: Callable[[ndarray], ndarray], \n",
    "          input_: ndarray, \n",
    "          delta: float = 0.001\n",
    "          ) -> ndarray:\n",
    "    return (func(input_ + delta) - func(input_ - delta)) / (2 * delta)\n",
    "```\n"
   ]
  },
  {
   "cell_type": "code",
   "execution_count": 39,
   "metadata": {},
   "outputs": [],
   "source": [
    "from typing import Callable\n",
    "\n",
    "def deriv(func: Callable[[ndarray], ndarray], \n",
    "          input_: ndarray, \n",
    "          delta: float = 0.001\n",
    "          ) -> ndarray:\n",
    "    return (func(input_ + delta) - func(input_ - delta)) / (2 * delta)\n",
    "\n",
    "def plot_simple(func: Callable[[ndarray], None], \n",
    "                input_: ndarray) -> None:\n",
    "    plt.plot(input_, func(input_))\n",
    "    plt.show()"
   ]
  },
  {
   "cell_type": "markdown",
   "metadata": {},
   "source": [
    "## 중첩 함수\n",
    "\n",
    "### 코드"
   ]
  },
  {
   "cell_type": "code",
   "execution_count": 42,
   "metadata": {},
   "outputs": [],
   "source": [
    "from typing import List\n",
    "\n",
    "Array_Function = Callable[[ndarray], ndarray]\n",
    "Chain = List[Array_Function]\n",
    "\n",
    "def chain_length_2(chain: Chain, \n",
    "                   x: ndarray\n",
    "                   ) -> ndarray:\n",
    "    '''\n",
    "    Evaluates two functions in a row, in a \"Chain\"\n",
    "    '''\n",
    "    assert len(chain) == 2, \\\n",
    "    \"Length of input 'chain' should be 2\"\n",
    "    \n",
    "    f1 = chain[0]\n",
    "    f2 = chain[1]\n",
    "    \n",
    "    return f2(f1(x))\n",
    "\n",
    "def chain_functions(chain: Chain, x:ndarray) -> ndarray:\n",
    "    '''\n",
    "    mash's special treat!\n",
    "    '''\n",
    "    if len(chain) == 0:\n",
    "        return x\n",
    "    \n",
    "    return chain[-1](chain_functions(chain[:-1], x))\n"
   ]
  },
  {
   "cell_type": "markdown",
   "metadata": {},
   "source": [
    "## The Chain Rule\n",
    "\n",
    "### Math\n",
    "$$\\begin{aligned}\n",
    "y &= f_2(f_1(x)) \\\\\n",
    "\\frac{\\partial{f_2}}{\\partial{u}}(x) &= \\lim_{\\Delta \\rightarrow 0}\\frac{f_2(f_1(x + \\Delta)) - f_2(f_1(x))}{\\Delta} \\\\\n",
    "&= \\lim_{\\Delta \\rightarrow 0}\\frac{f_2(f_1(x + \\Delta)) - f_2(f_1(x))}{f_1(x + \\Delta) - f_1(x)} \\times \\lim_{\\Delta \\rightarrow 0}\\frac{f_1(x + \\Delta) - f_1(x)}{\\Delta} \\\\\n",
    "&= \\frac{\\partial{f_2}}{\\partial{u}}(f_1(x)) \\times \\frac{\\partial{f_1}}{\\partial{u}}(x) \\\\\n",
    "\\end{aligned}$$\n",
    "\n",
    "### Code"
   ]
  },
  {
   "cell_type": "code",
   "execution_count": 56,
   "metadata": {},
   "outputs": [],
   "source": [
    "def sigmoid(x: ndarray) -> ndarray:\n",
    "    return 1 / (1 + np.exp(-x))\n",
    "\n",
    "def chain_deriv_2(chain:Chain, \n",
    "                  input_range: ndarray) -> ndarray:\n",
    "    assert len(chain) == 2, \\\n",
    "    \"This function requires 'Chain' object of length 2\"\n",
    "    \n",
    "    assert input_range.ndim == 1, \\\n",
    "    \"Function requires a 1 dimensional ndarray as input_range\"\n",
    "    \n",
    "    f1 = chain[0]\n",
    "    f2 = chain[1]\n",
    "    \n",
    "    # df1/dx\n",
    "    f1_of_x = f1(input_range)\n",
    "    \n",
    "    # df1/du\n",
    "    df1dx = deriv(f1, input_range)\n",
    "    \n",
    "    # df2/du(f1(x))\n",
    "    df2du = deriv(f2, f1_of_x)\n",
    "    \n",
    "    # return deriv(f3, f2(f1(input_range))) * deriv(f2, f1(input_range)) * deriv(f1, input_range)\n",
    "    return df2du * df1dx\n",
    "\n",
    "def chain_deriv_functions(chain: Chain, \n",
    "                          x: ndarray\n",
    "                          ) -> ndarray:\n",
    "    '''\n",
    "    mash's spacial treat!\n",
    "    '''\n",
    "    if len(chain) == 1:\n",
    "        return deriv(chain[0], x)\n",
    "    \n",
    "    return deriv(chain[-1], chain_functions(chain[:-1], x)) * chain_deriv_functions(chain[:-1], x)"
   ]
  },
  {
   "cell_type": "code",
   "execution_count": 57,
   "metadata": {},
   "outputs": [
    {
     "data": {
      "image/png": "[encoded data removed]",
      "text/plain": [
       "<Figure size 432x288 with 1 Axes>"
      ]
     },
     "metadata": {
      "needs_background": "light"
     },
     "output_type": "display_data"
    },
    {
     "data": {
      "image/png": "[encoded data removed]",
      "text/plain": [
       "<Figure size 432x288 with 1 Axes>"
      ]
     },
     "metadata": {
      "needs_background": "light"
     },
     "output_type": "display_data"
    }
   ],
   "source": [
    "\n",
    "PLOT_RANGE = np.arange(-3, 3, 0.01)\n",
    "\n",
    "chain_1 = [square, sigmoid]\n",
    "chain_2 = [sigmoid, square]\n",
    "\n",
    "def plot_chain(chain: Chain, \n",
    "               range: ndarray) -> None:\n",
    "    y = chain_functions(chain, range)\n",
    "    plt.plot(range, y)\n",
    "\n",
    "def plot_chain_deriv(chain: Chain, \n",
    "                     range: ndarray) -> None:\n",
    "    y = chain_deriv_functions(chain, range)\n",
    "    plt.plot(range, y)\n",
    "\n",
    "plot_chain(chain_1, PLOT_RANGE)\n",
    "plot_chain_deriv(chain_1, PLOT_RANGE)\n",
    "plt.show()\n",
    "\n",
    "plot_chain(chain_2, PLOT_RANGE)\n",
    "plot_chain_deriv(chain_2, PLOT_RANGE)\n",
    "plt.show()"
   ]
  },
  {
   "cell_type": "code",
   "execution_count": 22,
   "metadata": {},
   "outputs": [
    {
     "data": {
      "text/plain": [
       "<matplotlib.legend.Legend at 0x123cadca0>"
      ]
     },
     "execution_count": 22,
     "metadata": {},
     "output_type": "execute_result"
    },
    {
     "data": {
      "image/png": "[encoded data removed]",
      "text/plain": [
       "<Figure size 432x288 with 1 Axes>"
      ]
     },
     "metadata": {
      "needs_background": "light"
     },
     "output_type": "display_data"
    }
   ],
   "source": [
    "plt.plot(PLOT_RANGE, sigmoid(PLOT_RANGE))\n",
    "plot_chain(chain_2, PLOT_RANGE)\n",
    "plt.legend(['sigmoid', 'squared'])"
   ]
  },
  {
   "cell_type": "markdown",
   "metadata": {},
   "source": [
    "## 3차 합성 함수 미분\n",
    "\n",
    "### Math\n",
    "\n",
    "$$\n",
    "\\begin{aligned}\n",
    "y &= f_3(f_2(f_1(x))) \\\\\n",
    "\\frac{\\partial{f_3}}{\\partial{u}}(x) &= \\frac{\\partial{f_3}}{\\partial{u}}(f_2(f_1(x))) \\times\n",
    "\\frac{\\partial{f_2}}{\\partial{u}}(f_1(x)) \\times \\frac{\\partial{f_1}}{\\partial{u}}(x)\n",
    "\\end{aligned}\n",
    "$$"
   ]
  },
  {
   "cell_type": "code",
   "execution_count": 59,
   "metadata": {},
   "outputs": [
    {
     "data": {
      "image/png": "[encoded data removed]",
      "text/plain": [
       "<Figure size 432x288 with 1 Axes>"
      ]
     },
     "metadata": {
      "needs_background": "light"
     },
     "output_type": "display_data"
    }
   ],
   "source": [
    "plot_chain([leaky_relu, sigmoid, square], PLOT_RANGE)\n",
    "plot_chain_deriv([leaky_relu, sigmoid, square], PLOT_RANGE)\n",
    "plt.legend(['sigmoid(squalre(leakyrelu(x)', 'derivatives'])\n",
    "plt.show()"
   ]
  },
  {
   "cell_type": "markdown",
   "metadata": {},
   "source": [
    "## 다항식 미분"
   ]
  },
  {
   "cell_type": "code",
   "execution_count": 60,
   "metadata": {},
   "outputs": [],
   "source": [
    "def multiple_inputs_add(x: ndarray, \n",
    "                        y: ndarray,\n",
    "                        sigma: Array_Function) -> float:\n",
    "    assert x.shape == y.shape\n",
    "    \n",
    "    a = x + y\n",
    "    return sigma(a)"
   ]
  },
  {
   "cell_type": "markdown",
   "metadata": {},
   "source": [
    "### Math\n",
    "$$\n",
    "\\begin{aligned}\n",
    "a &= \\alpha(x, y) = x + y \\\\\n",
    "s &= \\sigma(a) \\\\\n",
    "f(x, y) &= \\sigma (x + y) \\\\\n",
    "\\\\\n",
    "\\frac{\\partial{f}}{\\partial{x}} &= \\frac{\\partial{\\sigma}}{\\partial{u}}(\\alpha(x, y)) \\times\n",
    "\\frac{\\partial{\\alpha}}{\\partial{x}}((x, y)) \\\\\n",
    "& = \\frac{\\partial{\\sigma}}{\\partial{u}}(x + y) \\times \\frac{\\partial{\\sigma}}{\\partial{u}}((x, y))\n",
    "\\end{aligned}\n",
    "$$\n",
    "$x$가 증가하면 $a$도 같은 단위로 증가하므로(y도 마찬가지)\n",
    "$$\n",
    "\\frac{\\partial{\\alpha}}{\\partial{x}}((x, y)) = 1\n",
    "$$\n",
    "\n",
    "### Code"
   ]
  },
  {
   "cell_type": "code",
   "execution_count": 61,
   "metadata": {},
   "outputs": [],
   "source": [
    "def multiple_inputs_add_backward(x: ndarray, \n",
    "                                 y: ndarray, \n",
    "                                 sigma: Array_Function) -> float:\n",
    "    # Compute 'forward pass'\n",
    "    a = x + y\n",
    "    \n",
    "    # Compute derivatives\n",
    "    dsda = deriv(sigma, a)\n",
    "    \n",
    "    dadx, dady = 1, 1\n",
    "    \n",
    "    return dsda * dadx, dsda * dady\n"
   ]
  },
  {
   "cell_type": "markdown",
   "metadata": {},
   "source": [
    "## Creating New Features from Existing Features\n",
    "$$\n",
    "N = \\nu(X, W) = X \\times W = x_1 w_1 + x_2 w_2 + ... + x_n w_n\n",
    "$$"
   ]
  },
  {
   "cell_type": "code",
   "execution_count": 63,
   "metadata": {},
   "outputs": [],
   "source": [
    "def matmul_forward(X: ndarray, \n",
    "                   W: ndarray) -> ndarray:\n",
    "    '''\n",
    "    Computes the forward pass of a matrix multiplication.\n",
    "    '''\n",
    "    assert X.shape[1] == W.shape[0], \\\n",
    "    '''\n",
    "    '''\n",
    "    N = np.dot(X, W)\n",
    "    return N"
   ]
  },
  {
   "cell_type": "markdown",
   "metadata": {},
   "source": [
    "매트릭스에 대한 미분\n",
    "\n",
    "$$\n",
    "\\begin{aligned}\n",
    "\\frac{\\partial{\\nu}}{\\partial{X}} &= \\begin{bmatrix} \\frac{\\partial{\\nu}}{\\partial{x_1}} &\\frac{\\partial{\\nu}}{\\partial{x_2}} &\\frac{\\partial{\\nu}}{\\partial{x_3}} \\end{bmatrix} \\\\\n",
    "\\\\\n",
    "\\frac{\\partial{\\nu}}{\\partial{x_1}} &= w_1 \\\\\n",
    "\\frac{\\partial{\\nu}}{\\partial{x_2}} &= w_2 \\\\\n",
    "\\frac{\\partial{\\nu}}{\\partial{x_3}} &= w_3 \\\\\n",
    "\\\\\n",
    "\\frac{\\partial{\\nu}}{\\partial{X}} &= \\begin{bmatrix} w_1 & w_2 & w_3 \\end{bmatrix} = W^T \\\\\n",
    "\\frac{\\partial{\\nu}}{\\partial{W}} &= \\begin{bmatrix} x_1 \\\\ x_2 \\\\ x_3 \\end{bmatrix} = X^T \\\\\n",
    "\\end{aligned}\n",
    "$$"
   ]
  },
  {
   "cell_type": "code",
   "execution_count": null,
   "metadata": {},
   "outputs": [],
   "source": []
  }
 ],
 "metadata": {
  "interpreter": {
   "hash": "5124c4102780756447861f2202c8e6af741ac1f02ea0d1c7b65e3af0ab9746c4"
  },
  "kernelspec": {
   "display_name": "Python 3.9.12 ('venv-mac': venv)",
   "language": "python",
   "name": "python3"
  },
  "language_info": {
   "codemirror_mode": {
    "name": "ipython",
    "version": 3
   },
   "file_extension": ".py",
   "mimetype": "text/x-python",
   "name": "python",
   "nbconvert_exporter": "python",
   "pygments_lexer": "ipython3",
   "version": "3.9.12"
  },
  "orig_nbformat": 4
 },
 "nbformat": 4,
 "nbformat_minor": 2
}
