{
 "cells": [
  {
   "cell_type": "code",
   "execution_count": null,
   "metadata": {},
   "outputs": [],
   "source": [
    "import tensorflow as tf\n",
    "\n",
    "hello = tf.constant(\"hell-o-world, tf\")\n",
    "\n",
    "session = tf"
   ]
  },
  {
   "cell_type": "code",
   "execution_count": 3,
   "metadata": {},
   "outputs": [
    {
     "name": "stdout",
     "output_type": "stream",
     "text": [
      "mnist download complete\n",
      "normalization done\n",
      "Epoch 1/5\n",
      "1875/1875 [==============================] - 2s 938us/step - loss: 0.7747 - accuracy: 0.8142\n",
      "Epoch 2/5\n",
      "1875/1875 [==============================] - 2s 849us/step - loss: 0.4570 - accuracy: 0.8802\n",
      "Epoch 3/5\n",
      "1875/1875 [==============================] - 2s 827us/step - loss: 0.4033 - accuracy: 0.8916\n",
      "Epoch 4/5\n",
      "1875/1875 [==============================] - 2s 819us/step - loss: 0.3767 - accuracy: 0.8972\n",
      "Epoch 5/5\n",
      "1875/1875 [==============================] - 1s 799us/step - loss: 0.3599 - accuracy: 0.9011\n",
      "313/313 - 0s - loss: 0.3358 - accuracy: 0.9092 - 231ms/epoch - 738us/step\n"
     ]
    },
    {
     "data": {
      "text/plain": [
       "[0.3357682228088379, 0.9092000126838684]"
      ]
     },
     "execution_count": 3,
     "metadata": {},
     "output_type": "execute_result"
    }
   ],
   "source": [
    "import tensorflow as tf\n",
    "\n",
    "mnist = tf.keras.datasets.mnist\n",
    "print(\"mnist download complete\")\n",
    "(x_train, y_train), (x_test, y_test) = mnist.load_data()\n",
    "x_train, x_test = x_train/255.0, x_test/255.0\n",
    "print(\"normalization done\")\n",
    "\n",
    "#linear classifier\n",
    "model = tf.keras.models.Sequential([\n",
    "    tf.keras.layers.Flatten(input_shape=(28,28)), #28 by 28 mnist input flatten\n",
    "    tf.keras.layers.Dense(10,activation='softmax')\n",
    "])\n",
    "\n",
    "model.compile(optimizer='SGD',\n",
    "             loss='sparse_categorical_crossentropy',\n",
    "             metrics=['accuracy'])\n",
    "\n",
    "model.fit(x_train, y_train, epochs=5)\n",
    "model.evaluate(x_test, y_test, verbose=2)"
   ]
  },
  {
   "cell_type": "markdown",
   "metadata": {},
   "source": [
    "https://www.youtube.com/watch?v=kyjBMuNM1DI&list=PLQ28Nx3M4JrhkqBVIXg-i5_CVVoS1UzAv&index=4\n",
    "\n",
    "파이토치로 다시 시작"
   ]
  },
  {
   "cell_type": "code",
   "execution_count": 3,
   "metadata": {},
   "outputs": [
    {
     "ename": "AttributeError",
     "evalue": "module 'optim' has no attribute 'SGD'",
     "output_type": "error",
     "traceback": [
      "\u001b[0;31m---------------------------------------------------------------------------\u001b[0m",
      "\u001b[0;31mAttributeError\u001b[0m                            Traceback (most recent call last)",
      "\u001b[1;32m/Users/mash/Projects/mash-ML/DL4All.ipynb Cell 4'\u001b[0m in \u001b[0;36m<cell line: 13>\u001b[0;34m()\u001b[0m\n\u001b[1;32m      <a href='vscode-notebook-cell:/Users/mash/Projects/mash-ML/DL4All.ipynb#ch0000005?line=8'>9</a>\u001b[0m hypothesis \u001b[39m=\u001b[39m x_train \u001b[39m*\u001b[39m W \u001b[39m+\u001b[39m b\n\u001b[1;32m     <a href='vscode-notebook-cell:/Users/mash/Projects/mash-ML/DL4All.ipynb#ch0000005?line=10'>11</a>\u001b[0m cost \u001b[39m=\u001b[39m torch\u001b[39m.\u001b[39mmean((hypothesis \u001b[39m-\u001b[39m y_train) \u001b[39m*\u001b[39m\u001b[39m*\u001b[39m \u001b[39m2\u001b[39m)\n\u001b[0;32m---> <a href='vscode-notebook-cell:/Users/mash/Projects/mash-ML/DL4All.ipynb#ch0000005?line=12'>13</a>\u001b[0m optimizer \u001b[39m=\u001b[39m optim\u001b[39m.\u001b[39;49mSGD([W, b], lr\u001b[39m=\u001b[39m\u001b[39m0.01\u001b[39m)\n\u001b[1;32m     <a href='vscode-notebook-cell:/Users/mash/Projects/mash-ML/DL4All.ipynb#ch0000005?line=14'>15</a>\u001b[0m optimizer\u001b[39m.\u001b[39mzero_grad()\n\u001b[1;32m     <a href='vscode-notebook-cell:/Users/mash/Projects/mash-ML/DL4All.ipynb#ch0000005?line=15'>16</a>\u001b[0m cost\u001b[39m.\u001b[39mbackward()\n",
      "\u001b[0;31mAttributeError\u001b[0m: module 'optim' has no attribute 'SGD'"
     ]
    }
   ],
   "source": [
    "import torch\n",
    "import optimizer as optim\n",
    "\n",
    "x_train = torch.FloatTensor([[1], [2], [3]])\n",
    "y_train = torch.FloatTensor([[2], [4], [6]])\n",
    "\n",
    "W = torch.zeros(1, requires_grad=True)\n",
    "b = torch.zeros(1, requires_grad=True)\n",
    "hypothesis = x_train * W + b\n",
    "\n",
    "cost = torch.mean((hypothesis - y_train) ** 2)\n",
    "\n",
    "optimizer = optim.SGD([W, b], lr=0.01)\n",
    "\n",
    "optimizer.zero_grad()\n",
    "cost.backward()\n",
    "optimizer.step()\n"
   ]
  },
  {
   "cell_type": "code",
   "execution_count": null,
   "metadata": {},
   "outputs": [],
   "source": []
  }
 ],
 "metadata": {
  "interpreter": {
   "hash": "5124c4102780756447861f2202c8e6af741ac1f02ea0d1c7b65e3af0ab9746c4"
  },
  "kernelspec": {
   "display_name": "Python 3.9.12 ('venv-mac': venv)",
   "language": "python",
   "name": "python3"
  },
  "language_info": {
   "codemirror_mode": {
    "name": "ipython",
    "version": 3
   },
   "file_extension": ".py",
   "mimetype": "text/x-python",
   "name": "python",
   "nbconvert_exporter": "python",
   "pygments_lexer": "ipython3",
   "version": "3.9.12"
  },
  "orig_nbformat": 4
 },
 "nbformat": 4,
 "nbformat_minor": 2
}
