{
 "cells": [
  {
   "cell_type": "code",
   "execution_count": 3,
   "metadata": {},
   "outputs": [
    {
     "name": "stdout",
     "output_type": "stream",
     "text": [
      "mnist download complete\n",
      "normalization done\n",
      "Epoch 1/5\n",
      "1875/1875 [==============================] - 2s 938us/step - loss: 0.7747 - accuracy: 0.8142\n",
      "Epoch 2/5\n",
      "1875/1875 [==============================] - 2s 849us/step - loss: 0.4570 - accuracy: 0.8802\n",
      "Epoch 3/5\n",
      "1875/1875 [==============================] - 2s 827us/step - loss: 0.4033 - accuracy: 0.8916\n",
      "Epoch 4/5\n",
      "1875/1875 [==============================] - 2s 819us/step - loss: 0.3767 - accuracy: 0.8972\n",
      "Epoch 5/5\n",
      "1875/1875 [==============================] - 1s 799us/step - loss: 0.3599 - accuracy: 0.9011\n",
      "313/313 - 0s - loss: 0.3358 - accuracy: 0.9092 - 231ms/epoch - 738us/step\n"
     ]
    },
    {
     "data": {
      "text/plain": [
       "[0.3357682228088379, 0.9092000126838684]"
      ]
     },
     "execution_count": 3,
     "metadata": {},
     "output_type": "execute_result"
    }
   ],
   "source": [
    "import tensorflow as tf\n",
    "\n",
    "mnist = tf.keras.datasets.mnist\n",
    "print(\"mnist download complete\")\n",
    "(x_train, y_train), (x_test, y_test) = mnist.load_data()\n",
    "x_train, x_test = x_train/255.0, x_test/255.0\n",
    "print(\"normalization done\")\n",
    "\n",
    "#linear classifier\n",
    "model = tf.keras.models.Sequential([\n",
    "    tf.keras.layers.Flatten(input_shape=(28,28)), #28 by 28 mnist input flatten\n",
    "    tf.keras.layers.Dense(10,activation='softmax')\n",
    "])\n",
    "\n",
    "model.compile(optimizer='SGD',\n",
    "             loss='sparse_categorical_crossentropy',\n",
    "             metrics=['accuracy'])\n",
    "\n",
    "model.fit(x_train, y_train, epochs=5)\n",
    "model.evaluate(x_test, y_test, verbose=2)"
   ]
  }
 ],
 "metadata": {
  "interpreter": {
   "hash": "5124c4102780756447861f2202c8e6af741ac1f02ea0d1c7b65e3af0ab9746c4"
  },
  "kernelspec": {
   "display_name": "Python 3.9.12 ('venv-mac': venv)",
   "language": "python",
   "name": "python3"
  },
  "language_info": {
   "codemirror_mode": {
    "name": "ipython",
    "version": 3
   },
   "file_extension": ".py",
   "mimetype": "text/x-python",
   "name": "python",
   "nbconvert_exporter": "python",
   "pygments_lexer": "ipython3",
   "version": "3.9.12"
  },
  "orig_nbformat": 4
 },
 "nbformat": 4,
 "nbformat_minor": 2
}
