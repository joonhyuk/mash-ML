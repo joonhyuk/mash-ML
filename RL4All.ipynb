{
 "cells": [
  {
   "cell_type": "markdown",
   "metadata": {},
   "source": [
    "# 모두를 위한 RL 강좌\n",
    "- pygame을 쓴다!?"
   ]
  },
  {
   "cell_type": "code",
   "execution_count": 1,
   "metadata": {},
   "outputs": [
    {
     "name": "stderr",
     "output_type": "stream",
     "text": [
      "2022-04-25 18:16:09.118 Python[33897:5881234] ApplePersistenceIgnoreState: Existing state will not be touched. New state will be written to /var/folders/j5/788vvhdj6q377rgwpbpy3k580000gn/T/org.python.python.savedState\n"
     ]
    },
    {
     "name": "stdout",
     "output_type": "stream",
     "text": [
      "0 0.0 False {'prob': 0.3333333333333333}\n",
      "1 0.0 False {'prob': 0.3333333333333333}\n",
      "1 0.0 False {'prob': 0.3333333333333333}\n",
      "5 0.0 True {'prob': 0.3333333333333333}\n",
      "5 0 True {'prob': 1.0}\n",
      "5 0 True {'prob': 1.0}\n",
      "5 0 True {'prob': 1.0}\n",
      "5 0 True {'prob': 1.0}\n",
      "5 0 True {'prob': 1.0}\n",
      "5 0 True {'prob': 1.0}\n",
      "5 0 True {'prob': 1.0}\n",
      "5 0 True {'prob': 1.0}\n",
      "5 0 True {'prob': 1.0}\n",
      "5 0 True {'prob': 1.0}\n",
      "5 0 True {'prob': 1.0}\n",
      "5 0 True {'prob': 1.0}\n",
      "5 0 True {'prob': 1.0}\n",
      "5 0 True {'prob': 1.0}\n",
      "5 0 True {'prob': 1.0}\n",
      "5 0 True {'prob': 1.0}\n",
      "5 0 True {'prob': 1.0}\n",
      "5 0 True {'prob': 1.0}\n",
      "5 0 True {'prob': 1.0}\n",
      "5 0 True {'prob': 1.0}\n",
      "5 0 True {'prob': 1.0}\n",
      "5 0 True {'prob': 1.0}\n",
      "5 0 True {'prob': 1.0}\n",
      "5 0 True {'prob': 1.0}\n",
      "5 0 True {'prob': 1.0}\n",
      "5 0 True {'prob': 1.0}\n"
     ]
    }
   ],
   "source": [
    "import gym\n",
    "env = gym.make('FrozenLake-v1')\n",
    "observation = env.reset()\n",
    "for _ in range(30):\n",
    "    env.render()\n",
    "    action = env.action_space.sample()\n",
    "    observation, reward, done, info = env.step(action)\n",
    "    print(observation, reward, done, info)"
   ]
  },
  {
   "cell_type": "markdown",
   "metadata": {},
   "source": [
    "## Optimal Policy, $\\pi$ and Max $Q$\n",
    "$*$  = optimal\n",
    "$$\n",
    "Q(\\text{state}, \\text{action}) \\\\\n",
    "\\\\\n",
    "\\text{Max} Q = \\max_{a'} Q(s, a') \\\\\n",
    "\\pi^*(s) = \\argmax_{a} Q(s, a)\n",
    "$$\n",
    "### rewards\n",
    "\n",
    "$$s_0, a_0, r_1, s_1, a_1, r_2, ..., s_{n-1}, a_{n-1}, r_n, s_n$$\n",
    "\n",
    "$$\\begin{aligned}\n",
    "R &= r_1 + r_2 + ... + r_n \\\\\n",
    "R_t &= r_t + r_{t+1} + ... + r_{n} \\\\\n",
    "R_t &= r_t + R_{t+1} \\\\\n",
    "\\\\\n",
    "R^*_t &= r_t + \\max R_{t+1} \\\\\n",
    "\\\\\n",
    "Q(s, a) &\\approx r + \\max_{a'} Q(s', a') \\\\\n",
    "\\hat{Q}(s,a) &\\leftarrow r + \\max_{a'} \\hat{Q}(s', a')\n",
    "\\end{aligned}$$"
   ]
  },
  {
   "cell_type": "markdown",
   "metadata": {},
   "source": [
    "## Dummy Q-learning algotrithm\n",
    "- For each $s, a$ initialize table entry $\\hat{Q}(s, a) \\rightarrow 0$\n",
    "- Observe current state $s$\n",
    "- Do forever:\n",
    "    - Select an action $a$ and execute it\n",
    "    - Receive immediate reward $r$\n",
    "    - Observe the new state $s'$\n",
    "    - Update the table entry for $\\hat{Q}(s, a)$ as follows:\n",
    "        - $$\\hat{Q}(s, a) \\leftarrow r + \\max_{a'} \\hat{Q}(s', a')$$\n",
    "    - $s \\leftarrow s'$"
   ]
  },
  {
   "cell_type": "code",
   "execution_count": 35,
   "metadata": {},
   "outputs": [
    {
     "name": "stdout",
     "output_type": "stream",
     "text": [
      "success rate: 0.9555\n",
      "final Q-table values\n",
      "LEFT\tDOWN\tRIGHT\tUP\n",
      "[[0.         0.         0.95099005 0.        ]\n",
      " [0.         0.         0.96059601 0.        ]\n",
      " [0.         0.970299   0.         0.        ]\n",
      " [0.         0.         0.         0.        ]\n",
      " [0.         0.         0.         0.        ]\n",
      " [0.         0.         0.         0.        ]\n",
      " [0.         0.9801     0.         0.        ]\n",
      " [0.         0.         0.         0.        ]\n",
      " [0.         0.         0.         0.        ]\n",
      " [0.         0.         0.         0.        ]\n",
      " [0.         0.99       0.         0.        ]\n",
      " [0.         0.         0.         0.        ]\n",
      " [0.         0.         0.         0.        ]\n",
      " [0.         0.         0.         0.        ]\n",
      " [0.         0.         1.         0.        ]\n",
      " [0.         0.         0.         0.        ]]\n"
     ]
    },
    {
     "data": {
      "image/png": "[encoded data removed]",
      "text/plain": [
       "<Figure size 432x288 with 1 Axes>"
      ]
     },
     "metadata": {
      "needs_background": "light"
     },
     "output_type": "display_data"
    }
   ],
   "source": [
    "import numpy as np\n",
    "import matplotlib.pyplot as plt\n",
    "import random as pr\n",
    "import gym\n",
    "from gym.envs.registration import register\n",
    "\n",
    "def rargmax(vector):\n",
    "    m = np.amax(vector)\n",
    "    indices = np.nonzero(vector == m)[0]\n",
    "    return pr.choice(indices)\n",
    "\n",
    "def frozen_lake_lab(epochs = 2000, \n",
    "                    learning_rate = 0.1, \n",
    "                    decaying_rate = 100, \n",
    "                    discount_rate = 0.99,\n",
    "                    method = 'random_noise', \n",
    "                    size = '4x4', \n",
    "                    is_slippery = False):\n",
    "    if method not in ('random noise', 'decaying e-greedy'):\n",
    "        method = 'e-greedy'\n",
    "    register(\n",
    "        id = 'FrozenLake-v3', \n",
    "        entry_point = 'gym.envs.toy_text:FrozenLakeEnv', \n",
    "        kwargs = {'map_name' : size, \n",
    "                'is_slippery' : is_slippery}\n",
    "    )\n",
    "\n",
    "    env = gym.make('FrozenLake-v3')\n",
    "    # initialize table with all zeros\n",
    "    Q = np.zeros([env.observation_space.n, env.action_space.n])\n",
    "    # set learning parameters\n",
    "    num_episodes = epochs\n",
    "    discount = discount_rate\n",
    "\n",
    "    # create lists to contain total rewards and steps per episode\n",
    "    rList = []\n",
    "    for i in range(num_episodes):\n",
    "        # reset environment and get first new observation\n",
    "        state = env.reset()\n",
    "        rAll = 0\n",
    "        done = False\n",
    "        \n",
    "        # decaying var\n",
    "        e = 1. / ((i // decaying_rate) + 1)\n",
    "        \n",
    "        # the Q-table learning algorithm\n",
    "        while not done:\n",
    "            # decaying e-greedy\n",
    "            if method == 'decaying e-greedy':\n",
    "                if np.random.rand(1) < e:\n",
    "                    action = env.action_space.sample()\n",
    "                else:\n",
    "                    action = np.argmax(Q[state, :])\n",
    "            elif method == 'random noise':\n",
    "                action = np.argmax(Q[state, :] + np.random.randn(1, env.action_space.n) / (i + 1))\n",
    "            else:\n",
    "                action = rargmax(Q[state, :])\n",
    "            \n",
    "            # add random noise\n",
    "            \n",
    "            # get new state and reward from environment\n",
    "            new_state, reward, done, _ = env.step(action)\n",
    "            \n",
    "            # update Q-table with new knowledge using learning rate\n",
    "            Q[state, action] = (1 - learning_rate) * Q[state, action] + learning_rate * (reward + discount * np.max(Q[new_state, :]))\n",
    "            \n",
    "            rAll += reward\n",
    "            state = new_state\n",
    "        rList.append(rAll)\n",
    "    # print(Q)\n",
    "\n",
    "    print(f'success rate: {str(sum(rList) / num_episodes)}')\n",
    "    print('final Q-table values')\n",
    "    print('LEFT\\tDOWN\\tRIGHT\\tUP')\n",
    "    print(Q)\n",
    "    plt.bar(range(len(rList)), rList)\n",
    "    plt.show()\n",
    "\n",
    "frozen_lake_lab()"
   ]
  },
  {
   "cell_type": "markdown",
   "metadata": {},
   "source": [
    "## Exploit vs. Exploration\n",
    "- exploit은 알려진 정보만을 사용, exploration은 다 한번 가본다.\n",
    "\n",
    "### E-greedy\n",
    "- 주사위를 던진다.\n",
    "```\n",
    "e = 0.1\n",
    "if rand < e:\n",
    "    a = random\n",
    "else:\n",
    "    a = argmax(Q(s, a))\n",
    "```\n",
    "### decaying E-greedy\n",
    "- 학습 할 수록 exploit쪽으로 간다.\n",
    "```\n",
    "for i in range(1000):\n",
    "    e = 0.1 / (i + 1)\n",
    "    if rand < e:\n",
    "        a = random\n",
    "    else:\n",
    "        a = argmax(Q(s, a))\n",
    "```\n",
    "\n",
    "### add random noise\n",
    "- Q 테이블에 랜덤값을 더한 다음 exploit 한다.\n",
    "- decaying을 더하면, 학습 할 수록 랜덤 폭을 줄인다.\n",
    "\n",
    "## Learning $Q(s, a)$ with discounted reward\n",
    "- 최단거리를 구하기 위함. 보상을 빨리 받는게 좋다.\n",
    "- 미래의 리워드를 디스카운트 해버린다.\n",
    "    - $\\gamma = 0.9$ 감마를 곱해준다.\n",
    "\n",
    "$$\\begin{aligned}\n",
    "\\hat{Q}(s, a) \\rightarrow r + \\gamma \\times \\max_{a'} \\hat{Q}(s', a') \\\\\n",
    "\n",
    "\\end{aligned}$$\n",
    "\n",
    "$$\\begin{aligned}\n",
    "R &= r_1 + r_2 + ... + r_n \\\\\n",
    "R_t &= r_t + r_{t+1} + ... + r_{n} \\\\\n",
    "\\\\\n",
    "R_t &= r_t + \\gamma r_{t+1} + \\gamma^2 r_{t+2} + ... + \\gamma^{n-t} r_n \\\\\n",
    "&= r_t + \\gamma(r_{t+1} + \\gamma r_{t+2} + ...) \\\\\n",
    "&= r_t + \\gamma R_{t+1} \\\\\n",
    "\\\\\n",
    "R^*_t &= r_t + \\gamma \\max R_{t+1} \\\\\n",
    "\\end{aligned}$$"
   ]
  },
  {
   "cell_type": "markdown",
   "metadata": {},
   "source": [
    "## Deterministic vs. Stochastic(nondeterministic)\n",
    "- in deterministic models, the output of the model is fully determined by the parameter values and the initial conditions\n",
    "- stochastic models possess some inherent randomness.\n",
    "    - the same set of parameter values and initial conditions will lead to an ensemble of different outputs\n",
    "- Q 학습 당시, input과 output의 관계를 믿을 수 없기 때문.\n",
    "- Q를 따를 때 약간만 따르고, 업데이트할 때도 약간만 한다.\n",
    "\n",
    "### Learning **incrementally**\n",
    "$$\n",
    "\\hat{Q}(s, a) \\leftarrow r + \\gamma \\max_{a'} \\hat{Q}(s', a')\n",
    "$$\n",
    "learning rate, $\\alpha$ 도입.\n",
    "$$\n",
    "\\hat{Q}(s, a) \\leftarrow (1 - \\alpha) \\hat{Q}(s, a) + \\alpha (r + \\gamma \\max_{a'} \\hat{Q}(s', a'))\n",
    "$$"
   ]
  },
  {
   "cell_type": "code",
   "execution_count": 36,
   "metadata": {},
   "outputs": [
    {
     "name": "stderr",
     "output_type": "stream",
     "text": [
      "/Users/mash/Projects/mash-ML/venv-mac/lib/python3.9/site-packages/gym/envs/registration.py:595: UserWarning: \u001b[33mWARN: Overriding environment FrozenLake-v3\u001b[0m\n",
      "  logger.warn(f\"Overriding environment {id}\")\n"
     ]
    },
    {
     "name": "stdout",
     "output_type": "stream",
     "text": [
      "success rate: 0.719\n",
      "final Q-table values\n",
      "LEFT\tDOWN\tRIGHT\tUP\n",
      "[[4.37487227e-01 4.33264892e-03 9.13184581e-03 2.81201412e-02]\n",
      " [2.29698775e-04 2.19016246e-04 1.69071652e-03 5.47796386e-01]\n",
      " [5.09636771e-03 6.41733141e-03 6.84495593e-03 6.29344169e-01]\n",
      " [2.69865484e-04 2.38769481e-04 1.43509748e-03 4.09395576e-01]\n",
      " [4.85869777e-01 2.27975043e-04 7.87704993e-03 1.46040692e-03]\n",
      " [0.00000000e+00 0.00000000e+00 0.00000000e+00 0.00000000e+00]\n",
      " [5.12582207e-01 1.82770711e-07 2.23719688e-04 4.91863298e-07]\n",
      " [0.00000000e+00 0.00000000e+00 0.00000000e+00 0.00000000e+00]\n",
      " [1.79305664e-04 8.53057914e-04 1.33164500e-03 6.98226747e-01]\n",
      " [0.00000000e+00 8.02069680e-01 1.01373489e-03 5.30900802e-04]\n",
      " [9.15017893e-01 0.00000000e+00 1.91487787e-04 0.00000000e+00]\n",
      " [0.00000000e+00 0.00000000e+00 0.00000000e+00 0.00000000e+00]\n",
      " [0.00000000e+00 0.00000000e+00 0.00000000e+00 0.00000000e+00]\n",
      " [1.16332830e-03 0.00000000e+00 9.33078254e-01 0.00000000e+00]\n",
      " [0.00000000e+00 9.99089614e-01 0.00000000e+00 0.00000000e+00]\n",
      " [0.00000000e+00 0.00000000e+00 0.00000000e+00 0.00000000e+00]]\n"
     ]
    },
    {
     "data": {
      "image/png": "[encoded data removed]",
      "text/plain": [
       "<Figure size 432x288 with 1 Axes>"
      ]
     },
     "metadata": {
      "needs_background": "light"
     },
     "output_type": "display_data"
    }
   ],
   "source": [
    "frozen_lake_lab(method='random noise', \n",
    "                epochs=2000, \n",
    "                learning_rate=0.85,\n",
    "                is_slippery=True)"
   ]
  },
  {
   "cell_type": "markdown",
   "metadata": {},
   "source": [
    "## Q-Network"
   ]
  },
  {
   "cell_type": "markdown",
   "metadata": {},
   "source": [
    "\n",
    "### Q-function Approximation\n",
    "- 네트웍을 이용. 입력은 $s$만 주고 output layer에서 모든 $a$에 대한 $Q$값을 다 출력한다.\n",
    "\t- 즉, $Q(s, a) \\rightarrow \\text{Q-value}$로 접근하는게 아니라, $Q(s) \\rightarrow [Qv_1, Qv_2, Qv_3, Qv_4]$ 가 된다."
   ]
  },
  {
   "cell_type": "markdown",
   "metadata": {},
   "source": [
    "\n",
    "### Q-Network training (linear regression)\n",
    "- $s$를 입력했을 때 linear regression에서 forward하면 출력은 $W_s$가 된다. 이 $W_s$가 optimal한 $Q^*$(label)를 만들어 내도록 학습을 해야 함.\n",
    "- $H$(hypothesis)가 있고, 실제 값을 $y$라 하면 비용함수를 최소화하는 문제가 된다.\n",
    "$$\\begin{aligned}\n",
    "H(x) &= W_x \\\\\n",
    "\\text{cost}(W) &= \\frac{1}{m}\\sum_{i=1}^m(W_x^{(i)} - y^{(i)})^2\n",
    "\\end{aligned}$$\n",
    "- MSE를 떠올려보면 아래와 같이 되는데, \n",
    "$$\n",
    "\\begin{aligned}\n",
    "\\text{cost}(W) &= (W_s - y)^2 \\\\\n",
    "y &= r + \\gamma \\max Q(s') \\\\\n",
    "&= Q^*\n",
    "\\end{aligned}\n",
    "$$\n",
    "- $W_s = Q_{\\text{prediction}} = \\hat{Q}$ 이다. (hat은 예측값을 의미)\n",
    "$$\n",
    "\\begin{aligned}\n",
    "W_s = \\hat{Q}(s, a|\\theta)\n",
    "\\end{aligned}\n",
    "$$\n",
    "- $\\theta$는 weight, 즉, 네트워크 자체가 된다. 네트워크를 통과한 a라는 의미."
   ]
  },
  {
   "cell_type": "markdown",
   "metadata": {},
   "source": [
    "\n",
    "### Q-Network training (math notation)\n",
    "- 위에서, $cost(W)$는 $\\hat{Q}$와 $Q^*$의 차이의 제곱이 된다. 이게 최소가 되어야 하므로, 우리가 바라는 것은 $\\hat{Q}(s, a|\\theta) \\approx Q^*(s, a)$가 된다.\n",
    "\n",
    "$$\\min_{\\theta}\\sum_{t=0}^T[\\hat{Q}(s_t, a_t|\\theta) - (r_t + \\gamma \\max_{a'}\\hat{Q}(s_{t+1}, a'|\\theta))]^2\n",
    "$$\n",
    "- $\\theta$(weight)를 통해 만들어 내는 예측값($\\hat{Q}$)과 $Q^*$의 차의 제곱이 최소화 되는 $\\theta$를 구해라. 이것이 목표!\n",
    "- 전처리($\\phi$) : $\\phi_1 \\leftarrow \\phi(s_1)$, 즉, $s_1$을 전처리하면 $\\phi_1$가 된다.\n",
    "    - 이미지를 처리 가능한 데이터화 하는 등의 작업\n",
    "    - 간단한 상황에서는 $\\phi \\approx s$"
   ]
  },
  {
   "cell_type": "markdown",
   "metadata": {},
   "source": [
    "\n",
    "### pseudo code @deepmind\n",
    "- Initialize action-value function $Q$ with random weights\n",
    "- for $\\text{episode} = 1, M$ do\n",
    "    - Initialize sequence $s_1 = \\{x_1\\}$ and preprocessed sequenced $\\phi_1 = \\phi(s_1)$\n",
    "    - for $t = 1, T$ do\n",
    "\t    - With probability $\\epsilon$ select a random action $a_t$\n",
    "\t    - otherwise select $a_t = \\max_a Q^* (\\phi(s_t, a|\\theta)$\n",
    "\t    - Execute action $a_t$ in gym and observe reward $r_t$ and image $x_{t+1}$\n",
    "\t    - Set $s_{t+1} = s_t, a_t, x_{t+1}$ and preprocess $\\phi_{t+1} = \\phi(s_{t+1})$\n",
    "\t    - Set $y_j = \\begin{cases}r_j & \\text{for terminal} \\phi_{j+1}\\\\r_j + \\gamma \\max_{a'} Q(\\phi_{j+1}, a'|\\theta) & \\text{for non-terminal} \\phi_{j+1} \\end{cases}$\n",
    "\t    - Perform a gradient descent step on $(y_j - Q(\\phi_j, a_j|\\theta))^2$ according to equation 3\n",
    "\t- end for\n",
    "- end for"
   ]
  },
  {
   "cell_type": "markdown",
   "metadata": {},
   "source": [
    "\n",
    "### Y label and loss function\n",
    "\n",
    "Set $y_j = \\begin{cases}r_j & \\text{for terminal} \\phi_{j+1}\\\\r_j + \\gamma \\max_{a'} Q(\\phi_{j+1}, a'|\\theta) & \\text{for non-terminal} \\phi_{j+1} \\end{cases}$\n",
    "Perform a **gradient descent** step on ==**loss function**== : $(y_j - Q(\\phi_j, a_j|\\theta))^2$ according to equation 3\n",
    "\n",
    "- terminal : 마지막 상태 (즉, goal에 도착)\n",
    "- $r_j$는 해당 상태에서의 reward. 즉, goal에서만 1점이고 나머지는 모두 0점."
   ]
  },
  {
   "cell_type": "markdown",
   "metadata": {},
   "source": [
    "\n",
    "### Deterministic or Stochastic?\n",
    "- target으로 lerning rate $\\alpha$가 적용된 값을 주지 않아도 되는지?\n",
    "- 된다. linear regression하면서 어차피 일어나게 되어 있으니."
   ]
  },
  {
   "cell_type": "markdown",
   "metadata": {},
   "source": [
    "\n",
    "### Convergence\n",
    "$$\n",
    "\\begin{aligned}\n",
    "\\min_{\\theta}\\sum_{t=0}^T[\\hat{Q}(s_t, a_t|\\theta) - (r_t + \\gamma \\max_{a'}\\hat{Q}(s_{t+1}, a'|\\theta))]^2\n",
    "\\end{aligned}\n",
    "$$\n",
    "- Converges to $Q^*$ using table lookup representation\n",
    "\t- 테이블의 경우는 converge 한다.\n",
    "- But ==**diverges**== using neural networks due to;\n",
    "\t- Correlations between samples\n",
    "\t- Non-stationary targets\n",
    "- 뉴럴넷에서는 converge가 안되므로 학습이 안되는데... 딥마인드에서 해법을 내놓았다. ==**DQN\n",
    "- DQN: Deep, Replay, Separated networks "
   ]
  },
  {
   "cell_type": "markdown",
   "metadata": {},
   "source": [
    "### 실습\n",
    "- One-hot 인코딩\n",
    "    - state를 전달할 때, 전체 state 사이즈의 배열을 만들고 전달하려는 state만 1을 켜서 만드는 기법."
   ]
  },
  {
   "cell_type": "code",
   "execution_count": 38,
   "metadata": {},
   "outputs": [
    {
     "name": "stdout",
     "output_type": "stream",
     "text": [
      "success rate : 54.50000000000001%\n"
     ]
    },
    {
     "data": {
      "text/plain": [
       "[<matplotlib.lines.Line2D at 0x13d467040>]"
      ]
     },
     "execution_count": 38,
     "metadata": {},
     "output_type": "execute_result"
    },
    {
     "data": {
      "image/png": "[encoded data removed]",
      "text/plain": [
       "<Figure size 432x288 with 1 Axes>"
      ]
     },
     "metadata": {
      "needs_background": "light"
     },
     "output_type": "display_data"
    }
   ],
   "source": [
    "# One-hot encoding\n",
    "import numpy as np\n",
    "\n",
    "def one_hot(x, size=16):\n",
    "    return np.identity(size)[x:x + 1]\n",
    "\n",
    "\n",
    "# import tensorflow.compat.v1 as tf\n",
    "from tensorflow import compat\n",
    "# 버전 차이때문에 v1의 것을 끌어다 사용\n",
    "tf = compat.v1\n",
    "tf.compat.v1.disable_eager_execution()\n",
    "\n",
    "import gym\n",
    "import matplotlib.pyplot as plt\n",
    "\n",
    "env = gym.make('FrozenLake-v1')\n",
    "input_size = env.observation_space.n\n",
    "output_size = env.action_space.n\n",
    "learning_rate = 0.1\n",
    "\n",
    "# establish the feed-forward part of the network used to choose actions\n",
    "X = tf.placeholder(shape = [1, input_size], dtype = tf.float32) # state input\n",
    "W = tf.Variable(tf.random.uniform([input_size, output_size], 0, 0.01))  # weight\n",
    "\n",
    "Q_hat = tf.matmul(X, W) # out Q prediction\n",
    "Y = tf.placeholder(shape = [1, output_size], dtype = tf.float32)   # Y label\n",
    "\n",
    "loss = tf.reduce_sum(tf.square(Y - Q_hat))\n",
    "train = tf.train.GradientDescentOptimizer(learning_rate=learning_rate).minimize(loss)\n",
    "\n",
    "# set Q-learning related parameters\n",
    "discount = .99\n",
    "num_episodes = 3000\n",
    "\n",
    "# create lists to contain total rewards and steps per episode\n",
    "rList = []\n",
    "\n",
    "init = tf.global_variables_initializer()\n",
    "with tf.Session() as sess:\n",
    "    sess.run(init)\n",
    "    for i in range(num_episodes):\n",
    "        # reset env and get first new observation\n",
    "        s = env.reset()\n",
    "        e = 1. / ((i // 50) + 10)\n",
    "        rAll = 0\n",
    "        done = False\n",
    "        local_loss = []\n",
    "        \n",
    "        # Q-Network training !\n",
    "        while not done:\n",
    "            # choose an action by greedily (with e chance of random action) from q-network\n",
    "            Qs = sess.run(Q_hat, feed_dict = {X: one_hot(s)})\n",
    "            if np.random.rand(1) < e:\n",
    "                a = env.action_space.sample()\n",
    "            else:\n",
    "                a = np.argmax(Qs)\n",
    "            \n",
    "            # get new state and reward from environment\n",
    "            s1, reward, done, info = env.step(a)\n",
    "            \n",
    "            if done:\n",
    "                # update Q, and no Q_s1, because it's terminal state\n",
    "                Qs[0, a] = reward\n",
    "                # (1, 16) X (16, 4) matmul 한 결과이므로 (1, 4)의 shape을 가지게 되고, [0, a]로 접근 가능\n",
    "            else:\n",
    "                # obtain the Q_s1 values by feeding the new state through our network\n",
    "                Qs1 = sess.run(Q_hat, feed_dict = {X: one_hot(s1)})\n",
    "                # update Qs\n",
    "                Qs[0, a] = reward + discount * np.max(Qs1)\n",
    "            \n",
    "            # train our network using target (Y) and predicted Q (q_hat) values\n",
    "            sess.run(train, feed_dict = {X: one_hot(s), Y: Qs})\n",
    "            \n",
    "            rAll += reward\n",
    "            s = s1\n",
    "        rList.append(rAll)\n",
    "    \n",
    "print(f'success rate : {str(sum(rList) / num_episodes * 100)}%')\n",
    "plt.plot(rList)"
   ]
  }
 ],
 "metadata": {
  "interpreter": {
   "hash": "5124c4102780756447861f2202c8e6af741ac1f02ea0d1c7b65e3af0ab9746c4"
  },
  "kernelspec": {
   "display_name": "Python 3.9.12 ('venv-mac': venv)",
   "language": "python",
   "name": "python3"
  },
  "language_info": {
   "codemirror_mode": {
    "name": "ipython",
    "version": 3
   },
   "file_extension": ".py",
   "mimetype": "text/x-python",
   "name": "python",
   "nbconvert_exporter": "python",
   "pygments_lexer": "ipython3",
   "version": "3.9.12"
  },
  "orig_nbformat": 4
 },
 "nbformat": 4,
 "nbformat_minor": 2
}
