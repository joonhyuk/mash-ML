{
 "cells": [
  {
   "cell_type": "markdown",
   "metadata": {},
   "source": [
    "# 모두를 위한 RL 강좌\n",
    "- pygame을 쓴다!?"
   ]
  },
  {
   "cell_type": "code",
   "execution_count": 8,
   "metadata": {},
   "outputs": [
    {
     "name": "stdout",
     "output_type": "stream",
     "text": [
      "1 0.0 False {'prob': 0.3333333333333333}\n",
      "2 0.0 False {'prob': 0.3333333333333333}\n",
      "1 0.0 False {'prob': 0.3333333333333333}\n",
      "1 0.0 False {'prob': 0.3333333333333333}\n",
      "0 0.0 False {'prob': 0.3333333333333333}\n",
      "0 0.0 False {'prob': 0.3333333333333333}\n",
      "1 0.0 False {'prob': 0.3333333333333333}\n",
      "1 0.0 False {'prob': 0.3333333333333333}\n",
      "2 0.0 False {'prob': 0.3333333333333333}\n",
      "1 0.0 False {'prob': 0.3333333333333333}\n",
      "0 0.0 False {'prob': 0.3333333333333333}\n",
      "4 0.0 False {'prob': 0.3333333333333333}\n",
      "4 0.0 False {'prob': 0.3333333333333333}\n",
      "0 0.0 False {'prob': 0.3333333333333333}\n",
      "0 0.0 False {'prob': 0.3333333333333333}\n",
      "0 0.0 False {'prob': 0.3333333333333333}\n",
      "0 0.0 False {'prob': 0.3333333333333333}\n",
      "4 0.0 False {'prob': 0.3333333333333333}\n",
      "4 0.0 False {'prob': 0.3333333333333333}\n",
      "4 0.0 False {'prob': 0.3333333333333333}\n",
      "5 0.0 True {'prob': 0.3333333333333333}\n",
      "5 0 True {'prob': 1.0}\n",
      "5 0 True {'prob': 1.0}\n",
      "5 0 True {'prob': 1.0}\n",
      "5 0 True {'prob': 1.0}\n",
      "5 0 True {'prob': 1.0}\n",
      "5 0 True {'prob': 1.0}\n",
      "5 0 True {'prob': 1.0}\n",
      "5 0 True {'prob': 1.0}\n",
      "5 0 True {'prob': 1.0}\n"
     ]
    }
   ],
   "source": [
    "import gym\n",
    "env = gym.make('FrozenLake-v1')\n",
    "observation = env.reset()\n",
    "for _ in range(30):\n",
    "    env.render()\n",
    "    action = env.action_space.sample()\n",
    "    observation, reward, done, info = env.step(action)\n",
    "    print(observation, reward, done, info)"
   ]
  },
  {
   "cell_type": "markdown",
   "metadata": {},
   "source": [
    "## Optimal Policy, $\\pi$ and Max $Q$\n",
    "$*$  = optimal\n",
    "$$\n",
    "Q(\\text{state}, \\text{action}) \\\\\n",
    "\\\\\n",
    "\\text{Max} Q = \\max_{a'} Q(s, a') \\\\\n",
    "\\pi^*(s) = \\argmax_{a} Q(s, a)\n",
    "$$\n",
    "### rewards\n",
    "\n",
    "$s_0, a_0, r_1, s_1, a_1, r_2, ..., s_{n-1}, a{n-1}, r_n, s_n$\n",
    "\n",
    "$$\\begin{aligned}\n",
    "R &= r_1 + r_2 + ... + r_n \\\\\n",
    "R_t &= r_t + r_{t+1} + ... + r_{n} \\\\\n",
    "R_t &= r_t + R_{t+1} \\\\\n",
    "\\\\\n",
    "R^*_t &= r_t + \\max R_{t+1} \\\\\n",
    "\\\\\n",
    "Q(s, a) &\\approx r + \\max_{a'} Q(s', a') \\\\\n",
    "\\hat{Q}(s,a) &\\leftarrow r + \\max_{a'} \\hat{Q}(s', a')\n",
    "\\end{aligned}$$"
   ]
  },
  {
   "cell_type": "markdown",
   "metadata": {},
   "source": [
    "## Dummy Q-learning algotrithm\n",
    "- For each $s, a$ initialize table entry $\\hat{Q}(s, a) \\rightarrow 0$\n",
    "- Observe current state $s$\n",
    "- Do forever:\n",
    "    - Select an action $a$ and execute it\n",
    "    - Receive immediate reward $r$\n",
    "    - Observe the new state $s'$\n",
    "    - Update the table entry for $\\hat{Q}(s, a)$ as follows:\n",
    "        - $$\\hat{Q}(s, a) \\rightarrow r + \\max_{a'} \\hat{Q}(s', a')$$\n",
    "    - $s \\rightarrow s'$"
   ]
  },
  {
   "cell_type": "code",
   "execution_count": 28,
   "metadata": {},
   "outputs": [
    {
     "name": "stdout",
     "output_type": "stream",
     "text": [
      "success rate: 0.798\n",
      "final Q-table values\n",
      "LEFT\tDOWN\tRIGHT\tUP\n",
      "[[0.531441   0.59049    0.4782969  0.531441  ]\n",
      " [0.531441   0.         0.43046721 0.4782969 ]\n",
      " [0.4782969  0.         0.         0.        ]\n",
      " [0.         0.         0.         0.        ]\n",
      " [0.59049    0.6561     0.         0.531441  ]\n",
      " [0.         0.         0.         0.        ]\n",
      " [0.         0.         0.         0.        ]\n",
      " [0.         0.         0.         0.        ]\n",
      " [0.6561     0.         0.729      0.59049   ]\n",
      " [0.6561     0.81       0.81       0.        ]\n",
      " [0.729      0.9        0.         0.        ]\n",
      " [0.         0.         0.         0.        ]\n",
      " [0.         0.         0.         0.        ]\n",
      " [0.         0.81       0.9        0.729     ]\n",
      " [0.81       0.9        1.         0.81      ]\n",
      " [0.         0.         0.         0.        ]]\n"
     ]
    },
    {
     "data": {
      "image/png": "[encoded data removed]",
      "text/plain": [
       "<Figure size 432x288 with 1 Axes>"
      ]
     },
     "metadata": {
      "needs_background": "light"
     },
     "output_type": "display_data"
    }
   ],
   "source": [
    "import numpy as np\n",
    "import matplotlib.pyplot as plt\n",
    "import random as pr\n",
    "import gym\n",
    "from gym.envs.registration import register\n",
    "\n",
    "def rargmax(vector):\n",
    "    m = np.amax(vector)\n",
    "    indices = np.nonzero(vector == m)[0]\n",
    "    return pr.choice(indices)\n",
    "\n",
    "register(\n",
    "    id = 'FrozenLake-v3', \n",
    "    entry_point = 'gym.envs.toy_text:FrozenLakeEnv', \n",
    "    kwargs = {'map_name' : '4x4', \n",
    "              'is_slippery' : False}\n",
    ")\n",
    "\n",
    "env = gym.make('FrozenLake-v3')\n",
    "# initialize table with all zeros\n",
    "Q = np.zeros([env.observation_space.n, env.action_space.n])\n",
    "# set learning parameters\n",
    "num_episodes = 2000\n",
    "discount = 0.9\n",
    "\n",
    "# create lists to contain total rewards and steps per episode\n",
    "rList = []\n",
    "for i in range(num_episodes):\n",
    "    # reset environment and get first new observation\n",
    "    state = env.reset()\n",
    "    rAll = 0\n",
    "    done = False\n",
    "    \n",
    "    # decaying var\n",
    "    e = 1. / ((i // 100) + 1)\n",
    "    \n",
    "    # the Q-table learning algorithm\n",
    "    while not done:\n",
    "        # decaying e-greedy\n",
    "        if np.random.rand(1) < e:\n",
    "            action = env.action_space.sample()\n",
    "        else:\n",
    "            action = np.argmax(Q[state, :])\n",
    "        # first run\n",
    "        # action = rargmax(Q[state, :])\n",
    "        \n",
    "        # add random noise\n",
    "        # action = np.argmax(Q[state, :] + np.random.randn(1, env.action_space.n) / (i + 1))\n",
    "        \n",
    "        # get new state and reward from environment\n",
    "        new_state, reward, done, _ = env.step(action)\n",
    "        \n",
    "        # update Q-table with new knowledge using learning rate\n",
    "        Q[state, action] = reward + discount * np.max(Q[new_state, :])\n",
    "        \n",
    "        rAll += reward\n",
    "        state = new_state\n",
    "    rList.append(rAll)\n",
    "# print(Q)\n",
    "\n",
    "print(f'success rate: {str(sum(rList) / num_episodes)}')\n",
    "print('final Q-table values')\n",
    "print('LEFT\\tDOWN\\tRIGHT\\tUP')\n",
    "print(Q)\n",
    "plt.bar(range(len(rList)), rList)\n",
    "plt.show()"
   ]
  },
  {
   "cell_type": "markdown",
   "metadata": {},
   "source": [
    "## Exploit vs. Exploration\n",
    "- exploit은 알려진 정보만을 사용, exploration은 다 한번 가본다.\n",
    "\n",
    "### E-greedy\n",
    "- 주사위를 던진다.\n",
    "```\n",
    "e = 0.1\n",
    "if rand < e:\n",
    "    a = random\n",
    "else:\n",
    "    a = argmax(Q(s, a))\n",
    "```\n",
    "### decaying E-greedy\n",
    "- 학습 할 수록 exploit쪽으로 간다.\n",
    "```\n",
    "for i in range(1000):\n",
    "    e = 0.1 / (i + 1)\n",
    "    if rand < e:\n",
    "        a = random\n",
    "    else:\n",
    "        a = argmax(Q(s, a))\n",
    "```\n",
    "\n",
    "### add random noise\n",
    "- Q 테이블에 랜덤값을 더한 다음 exploit 한다.\n",
    "- decaying을 더하면, 학습 할 수록 랜덤 폭을 줄인다.\n",
    "\n",
    "## Learning $Q(s, a)$ with discounted reward\n",
    "- 최단거리를 구하기 위함. 보상을 빨리 받는게 좋다.\n",
    "- 미래의 리워드를 디스카운트 해버린다.\n",
    "    - $\\gamma = 0.9$ 감마를 곱해준다.\n",
    "\n",
    "$$\\begin{aligned}\n",
    "\\hat{Q}(s, a) \\rightarrow r + \\gamma \\times \\max_{a'} \\hat{Q}(s', a') \\\\\n",
    "\n",
    "\\end{aligned}$$\n",
    "\n",
    "$$\\begin{aligned}\n",
    "R &= r_1 + r_2 + ... + r_n \\\\\n",
    "R_t &= r_t + r_{t+1} + ... + r_{n} \\\\\n",
    "\\\\\n",
    "R_t &= r_t + \\gamma r_{t+1} + \\gamma^2 r_{t+2} + ... + \\gamma^{n-t} r_n \\\\\n",
    "&= r_t + \\gamma(r_{t+1} + \\gamma r_{t+2} + ...) \\\\\n",
    "&= r_t + \\gamma R_{t+1} \\\\\n",
    "\\\\\n",
    "R^*_t &= r_t + \\gamma \\max R_{t+1} \\\\\n",
    "\\end{aligned}$$"
   ]
  }
 ],
 "metadata": {
  "interpreter": {
   "hash": "5124c4102780756447861f2202c8e6af741ac1f02ea0d1c7b65e3af0ab9746c4"
  },
  "kernelspec": {
   "display_name": "Python 3.9.12 ('venv-mac': venv)",
   "language": "python",
   "name": "python3"
  },
  "language_info": {
   "codemirror_mode": {
    "name": "ipython",
    "version": 3
   },
   "file_extension": ".py",
   "mimetype": "text/x-python",
   "name": "python",
   "nbconvert_exporter": "python",
   "pygments_lexer": "ipython3",
   "version": "3.9.12"
  },
  "orig_nbformat": 4
 },
 "nbformat": 4,
 "nbformat_minor": 2
}
