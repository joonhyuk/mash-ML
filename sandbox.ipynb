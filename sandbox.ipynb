{
 "cells": [
  {
   "cell_type": "code",
   "execution_count": 5,
   "metadata": {},
   "outputs": [
    {
     "name": "stdout",
     "output_type": "stream",
     "text": [
      "The autoreload extension is already loaded. To reload it, use:\n",
      "  %reload_ext autoreload\n",
      "19740274219868282880\n",
      "19740274219868223167\n",
      "19740274219868223167\n"
     ]
    }
   ],
   "source": [
    "import math\n",
    "import numpy as np\n",
    "import time\n",
    "import random\n",
    "\n",
    "from multiprocessing import Pool\n",
    "\n",
    "%load_ext autoreload\n",
    "%autoreload 2\n",
    "from tools import *\n",
    "\n",
    "start_time = time.perf_counter_ns()\n",
    "\n",
    "def process_time():\n",
    "    print(f'{(time.perf_counter_ns() - start_time) / 1000} ms')\n",
    "\n",
    "def fib_math(n):\n",
    "    return int((1 / math.sqrt(5)) * (((1 + math.sqrt(5))/2) ** n - ((1 - math.sqrt(5))/2) ** n))\n",
    "\n",
    "def fib_loop(n):\n",
    "    _cur, _next = 0, 1\n",
    "    for _ in range(n):\n",
    "        _cur, _next = _next, _cur + _next\n",
    "    return _cur\n",
    "\n",
    "def fib_recursive(n):\n",
    "    if n <= 1: return n\n",
    "    return fib_recursive(n - 1) + fib_recursive(n - 2)\n",
    "\n",
    "from functools import lru_cache\n",
    "\n",
    "@lru_cache\n",
    "def fib_memoization(n):\n",
    "    if n <=1: return n\n",
    "    return fib_memoization(n - 1) + fib_memoization(n - 2)\n",
    "\n",
    "n = 94\n",
    "\n",
    "\n",
    "print(fib_math(n))\n",
    "print(fib_loop(n))\n",
    "# process_time()\n",
    "\n",
    "print(fib_memoization(n))\n",
    "# process_time()"
   ]
  },
  {
   "cell_type": "code",
   "execution_count": 41,
   "metadata": {},
   "outputs": [
    {
     "name": "stdout",
     "output_type": "stream",
     "text": [
      "23416728348467744\n",
      "37889062373144008\n",
      "61305790721611760\n",
      "99194853094755776\n"
     ]
    }
   ],
   "source": [
    "print(fib_math(80))\n",
    "print(fib_math(81))\n",
    "print(fib_math(82))\n",
    "print(fib_math(83))\n"
   ]
  },
  {
   "cell_type": "code",
   "execution_count": 3,
   "metadata": {},
   "outputs": [
    {
     "name": "stdout",
     "output_type": "stream",
     "text": [
      "832040 832040 832040 832040 832040 832040 832040 832040 832040 832040 832040 832040 832040 832040 832040 832040 "
     ]
    }
   ],
   "source": [
    "n = 30\n",
    "for _ in range(16):\n",
    "    print(fib_recursive(n), end=' ')"
   ]
  },
  {
   "cell_type": "code",
   "execution_count": 6,
   "metadata": {},
   "outputs": [
    {
     "name": "stdout",
     "output_type": "stream",
     "text": [
      "[9227465, 9227465, 9227465, 9227465, 9227465, 9227465, 9227465, 9227465, 9227465, 9227465, 9227465, 9227465, 9227465, 9227465, 9227465, 9227465]\n"
     ]
    }
   ],
   "source": [
    "n = 35\n",
    "with Pool(16) as p:\n",
    "    print(p.map(fib_recursive, (n, n, n, n, n, n, n, n, n, n, n, n, n, n, n, n)))"
   ]
  },
  {
   "cell_type": "code",
   "execution_count": 9,
   "metadata": {},
   "outputs": [
    {
     "name": "stdout",
     "output_type": "stream",
     "text": [
      "['right', 'left', 'up', 'down']\n"
     ]
    }
   ],
   "source": [
    "dt = {'right':(1, 0), 'left':(-1, 0), 'up':(0, -1), 'down':(0, 1)}\n",
    "print(list(dt.keys()))\n"
   ]
  },
  {
   "cell_type": "markdown",
   "metadata": {},
   "source": [
    "- 멀티프로세싱을 통하면 풀 개수만큼 나눠 가능하다.\n",
    "    - 프로세싱을 멀티플라이 하는 코스트 자체가 제법 되어서 단일 작업보다 좀 더 걸린다."
   ]
  },
  {
   "cell_type": "code",
   "execution_count": 15,
   "metadata": {},
   "outputs": [
    {
     "name": "stdout",
     "output_type": "stream",
     "text": [
      "[(0, 0, -1), (0, 1, -1), (0, 1, -1), (0, 1, -1), (0, 1, -1), (1, 1, -1), (1, 0, -1), (1, 0, -1), (2, 0, -1), (2, 0, -1), (3, 0, -1), (3, 1, -1), (3, 0, -1), (2, 0, -1), (2, 1, -1), (1, 1, -1), (1, 0, -1), (0, 0, -1), (0, 1, -1), (1, 1, -1), (2, 1, -1), (2, 0, -1), (2, 1, -1), (2, 0, -1), (1, 0, -1), (1, 1, -1), (0, 1, -1), (0, 1, -1), (0, 2, -1), (0, 3, -1), (1, 3, -1), (1, 4, -1), (1, 3, -1), (1, 4, -1), (2, 4, -1), (2, 4, -1), (2, 3, -1), (2, 2, -1), (1, 2, -1), (0, 2, -1), (0, 3, -1), (1, 3, -1), (2, 3, -1), (2, 4, -1), (3, 4, -1), (4, 4, -1)]\n"
     ]
    },
    {
     "ename": "IndexError",
     "evalue": "index 4 is out of bounds for axis 0 with size 4",
     "output_type": "error",
     "traceback": [
      "\u001b[0;31m---------------------------------------------------------------------------\u001b[0m",
      "\u001b[0;31mIndexError\u001b[0m                                Traceback (most recent call last)",
      "\u001b[1;32m/home/mash/Projects/mash-ML/sandbox.ipynb Cell 7'\u001b[0m in \u001b[0;36m<cell line: 80>\u001b[0;34m()\u001b[0m\n\u001b[1;32m     <a href='vscode-notebook-cell:/home/mash/Projects/mash-ML/sandbox.ipynb#ch0000006?line=67'>68</a>\u001b[0m             cum_reward \u001b[39m=\u001b[39m reward \u001b[39m+\u001b[39m gamma \u001b[39m*\u001b[39m cum_reward\n\u001b[1;32m     <a href='vscode-notebook-cell:/home/mash/Projects/mash-ML/sandbox.ipynb#ch0000006?line=69'>70</a>\u001b[0m         \u001b[39m# for row in env.stage:\u001b[39;00m\n\u001b[1;32m     <a href='vscode-notebook-cell:/home/mash/Projects/mash-ML/sandbox.ipynb#ch0000006?line=70'>71</a>\u001b[0m             \u001b[39m# print(row)\u001b[39;00m\n\u001b[1;32m     <a href='vscode-notebook-cell:/home/mash/Projects/mash-ML/sandbox.ipynb#ch0000006?line=71'>72</a>\u001b[0m             \n\u001b[0;32m   (...)\u001b[0m\n\u001b[1;32m     <a href='vscode-notebook-cell:/home/mash/Projects/mash-ML/sandbox.ipynb#ch0000006?line=76'>77</a>\u001b[0m \u001b[39m# ttt.reset()\u001b[39;00m\n\u001b[1;32m     <a href='vscode-notebook-cell:/home/mash/Projects/mash-ML/sandbox.ipynb#ch0000006?line=77'>78</a>\u001b[0m \u001b[39m# print(ttt.row, ttt.col)\u001b[39;00m\n\u001b[0;32m---> <a href='vscode-notebook-cell:/home/mash/Projects/mash-ML/sandbox.ipynb#ch0000006?line=79'>80</a>\u001b[0m main()\n",
      "\u001b[1;32m/home/mash/Projects/mash-ML/sandbox.ipynb Cell 7'\u001b[0m in \u001b[0;36mmain\u001b[0;34m()\u001b[0m\n\u001b[1;32m     <a href='vscode-notebook-cell:/home/mash/Projects/mash-ML/sandbox.ipynb#ch0000006?line=64'>65</a>\u001b[0m \u001b[39mfor\u001b[39;00m transition \u001b[39min\u001b[39;00m history[::\u001b[39m-\u001b[39m\u001b[39m1\u001b[39m]:\n\u001b[1;32m     <a href='vscode-notebook-cell:/home/mash/Projects/mash-ML/sandbox.ipynb#ch0000006?line=65'>66</a>\u001b[0m     x, y, reward \u001b[39m=\u001b[39m transition\n\u001b[0;32m---> <a href='vscode-notebook-cell:/home/mash/Projects/mash-ML/sandbox.ipynb#ch0000006?line=66'>67</a>\u001b[0m     env\u001b[39m.\u001b[39;49mstage[x][y] \u001b[39m+\u001b[39m\u001b[39m=\u001b[39m alpha \u001b[39m*\u001b[39m (cum_reward \u001b[39m-\u001b[39m env\u001b[39m.\u001b[39mstage[x][y])\n\u001b[1;32m     <a href='vscode-notebook-cell:/home/mash/Projects/mash-ML/sandbox.ipynb#ch0000006?line=67'>68</a>\u001b[0m     cum_reward \u001b[39m=\u001b[39m reward \u001b[39m+\u001b[39m gamma \u001b[39m*\u001b[39m cum_reward\n",
      "\u001b[0;31mIndexError\u001b[0m: index 4 is out of bounds for axis 0 with size 4"
     ]
    }
   ],
   "source": [
    "import numpy as np\n",
    "import random\n",
    "DIRECTIONS = {'right':(1, 0), 'left':(-1, 0), 'up':(0, -1), 'down':(0, 1)}\n",
    "\n",
    "class GridWorld:\n",
    "    def __init__(self, r=4, c=4):\n",
    "        self.row = 0\n",
    "        self.col = 0\n",
    "        self.stage = np.zeros((r, c))\n",
    "        self.row_size = r\n",
    "        self.col_size = c\n",
    "    \n",
    "    def step(self, direction:str):\n",
    "        '''direction 0/right, 1/left, 2/up, 3/down'''\n",
    "        if self.move(direction):\n",
    "            reward = -1\n",
    "            done = self.is_done()\n",
    "        return (self.row, self.col), reward, done\n",
    "    \n",
    "    def is_done(self):\n",
    "        # print(self.row, self.col)\n",
    "        return (self.row == self.stage.shape[0] and self.col == self.stage.shape[1])\n",
    "    \n",
    "    def move(self, direction):\n",
    "        if direction not in DIRECTIONS.keys(): return False\n",
    "        self.row = clamp(self.row + DIRECTIONS[direction][0], 0, self.stage.shape[0])\n",
    "        self.col = clamp(self.col + DIRECTIONS[direction][1], 0, self.stage.shape[1])\n",
    "        return True\n",
    "    \n",
    "    def get_state(self):\n",
    "        return self.row, self.col\n",
    "    \n",
    "    def reset(self):\n",
    "        # self.__init__(*self.stage.shape)\n",
    "        self.row = 0\n",
    "        self.col = 0\n",
    "        return (self.row, self.col)\n",
    "        \n",
    "class Agent:\n",
    "    def __init__(self):\n",
    "        pass\n",
    "    \n",
    "    def select_action(self):\n",
    "        return random.choice(list(DIRECTIONS.keys()))\n",
    "\n",
    "def main():\n",
    "    env = GridWorld()\n",
    "    agent = Agent()\n",
    "    gamma = 1.0\n",
    "    reward = -1\n",
    "    alpha = 0.001\n",
    "    \n",
    "    for k in range(2):\n",
    "        done = False\n",
    "        history = []\n",
    "        \n",
    "        while not done:\n",
    "            action = agent.select_action()\n",
    "            (x, y), reward, done = env.step(action)\n",
    "            history.append((x, y, reward))\n",
    "        print(history)\n",
    "        env.reset()\n",
    "        \n",
    "        cum_reward = 0\n",
    "        for transition in history[::-1]:\n",
    "            x, y, reward = transition\n",
    "            env.stage[x][y] += alpha * (cum_reward - env.stage[x][y])\n",
    "            cum_reward = reward + gamma * cum_reward\n",
    "            \n",
    "        # for row in env.stage:\n",
    "            # print(row)\n",
    "            \n",
    "    \n",
    "\n",
    "# ttt = GridWorld()\n",
    "# ttt.move('right')\n",
    "# ttt.reset()\n",
    "# print(ttt.row, ttt.col)\n",
    "\n",
    "main()"
   ]
  }
 ],
 "metadata": {
  "interpreter": {
   "hash": "2bc0c7e8f0a52773776ada41d27b7eb9b2890d9e5fc8400f9ac6633f99b58eb7"
  },
  "kernelspec": {
   "display_name": "Python 3.10.4 ('venv-linux': venv)",
   "language": "python",
   "name": "python3"
  },
  "language_info": {
   "codemirror_mode": {
    "name": "ipython",
    "version": 3
   },
   "file_extension": ".py",
   "mimetype": "text/x-python",
   "name": "python",
   "nbconvert_exporter": "python",
   "pygments_lexer": "ipython3",
   "version": "3.10.4"
  },
  "orig_nbformat": 4
 },
 "nbformat": 4,
 "nbformat_minor": 2
}
