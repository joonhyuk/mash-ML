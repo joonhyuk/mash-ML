{
 "cells": [
  {
   "cell_type": "code",
   "execution_count": 2,
   "metadata": {},
   "outputs": [
    {
     "name": "stdout",
     "output_type": "stream",
     "text": [
      "19740274219868282880\n",
      "19740274219868223167\n",
      "19740274219868223167\n"
     ]
    }
   ],
   "source": [
    "import math\n",
    "import numpy as np\n",
    "import time\n",
    "import random\n",
    "\n",
    "from multiprocessing import Pool\n",
    "\n",
    "%load_ext autoreload\n",
    "%autoreload 2\n",
    "from tools import *\n",
    "\n",
    "start_time = time.perf_counter_ns()\n",
    "\n",
    "def process_time():\n",
    "    print(f'{(time.perf_counter_ns() - start_time) / 1000} ms')\n",
    "\n",
    "def fib_math(n):\n",
    "    return int((1 / math.sqrt(5)) * (((1 + math.sqrt(5))/2) ** n - ((1 - math.sqrt(5))/2) ** n))\n",
    "\n",
    "def fib_loop(n):\n",
    "    _cur, _next = 0, 1\n",
    "    for _ in range(n):\n",
    "        _cur, _next = _next, _cur + _next\n",
    "    return _cur\n",
    "\n",
    "def fib_recursive(n):\n",
    "    if n <= 1: return n\n",
    "    return fib_recursive(n - 1) + fib_recursive(n - 2)\n",
    "\n",
    "from functools import lru_cache\n",
    "\n",
    "@lru_cache\n",
    "def fib_memoization(n):\n",
    "    if n <=1: return n\n",
    "    return fib_memoization(n - 1) + fib_memoization(n - 2)\n",
    "\n",
    "n = 94\n",
    "\n",
    "\n",
    "print(fib_math(n))\n",
    "print(fib_loop(n))\n",
    "# process_time()\n",
    "\n",
    "print(fib_memoization(n))\n",
    "# process_time()"
   ]
  },
  {
   "cell_type": "code",
   "execution_count": 41,
   "metadata": {},
   "outputs": [
    {
     "name": "stdout",
     "output_type": "stream",
     "text": [
      "23416728348467744\n",
      "37889062373144008\n",
      "61305790721611760\n",
      "99194853094755776\n"
     ]
    }
   ],
   "source": [
    "print(fib_math(80))\n",
    "print(fib_math(81))\n",
    "print(fib_math(82))\n",
    "print(fib_math(83))\n"
   ]
  },
  {
   "cell_type": "code",
   "execution_count": 1,
   "metadata": {},
   "outputs": [
    {
     "ename": "NameError",
     "evalue": "name 'fib_recursive' is not defined",
     "output_type": "error",
     "traceback": [
      "\u001b[0;31m---------------------------------------------------------------------------\u001b[0m",
      "\u001b[0;31mNameError\u001b[0m                                 Traceback (most recent call last)",
      "\u001b[1;32m/home/mash/Projects/mash-ML/sandbox.ipynb Cell 3'\u001b[0m in \u001b[0;36m<cell line: 2>\u001b[0;34m()\u001b[0m\n\u001b[1;32m      <a href='vscode-notebook-cell:/home/mash/Projects/mash-ML/sandbox.ipynb#ch0000002?line=0'>1</a>\u001b[0m n \u001b[39m=\u001b[39m \u001b[39m30\u001b[39m\n\u001b[1;32m      <a href='vscode-notebook-cell:/home/mash/Projects/mash-ML/sandbox.ipynb#ch0000002?line=1'>2</a>\u001b[0m \u001b[39mfor\u001b[39;00m _ \u001b[39min\u001b[39;00m \u001b[39mrange\u001b[39m(\u001b[39m16\u001b[39m):\n\u001b[0;32m----> <a href='vscode-notebook-cell:/home/mash/Projects/mash-ML/sandbox.ipynb#ch0000002?line=2'>3</a>\u001b[0m     \u001b[39mprint\u001b[39m(fib_recursive(n), end\u001b[39m=\u001b[39m\u001b[39m'\u001b[39m\u001b[39m \u001b[39m\u001b[39m'\u001b[39m)\n",
      "\u001b[0;31mNameError\u001b[0m: name 'fib_recursive' is not defined"
     ]
    }
   ],
   "source": [
    "n = 30\n",
    "for _ in range(16):\n",
    "    print(fib_recursive(n), end=' ')"
   ]
  },
  {
   "cell_type": "code",
   "execution_count": 4,
   "metadata": {},
   "outputs": [
    {
     "name": "stdout",
     "output_type": "stream",
     "text": [
      "[24157817, 24157817, 24157817, 24157817, 24157817, 24157817, 24157817, 24157817, 24157817, 24157817, 24157817, 24157817, 24157817, 24157817, 24157817, 24157817]\n"
     ]
    }
   ],
   "source": [
    "n = 37\n",
    "with Pool(16) as p:\n",
    "    print(p.map(fib_recursive, (n, n, n, n, n, n, n, n, n, n, n, n, n, n, n, n)))"
   ]
  },
  {
   "cell_type": "markdown",
   "metadata": {},
   "source": [
    "- 멀티프로세싱을 통하면 풀 개수만큼 나눠 가능하다.\n",
    "    - 프로세싱을 멀티플라이 하는 코스트 자체가 제법 되어서 단일 작업보다 좀 더 걸린다."
   ]
  },
  {
   "cell_type": "code",
   "execution_count": 9,
   "metadata": {},
   "outputs": [
    {
     "name": "stdout",
     "output_type": "stream",
     "text": [
      "['right', 'left', 'up', 'down']\n"
     ]
    }
   ],
   "source": [
    "dt = {'right':(1, 0), 'left':(-1, 0), 'up':(0, -1), 'down':(0, 1)}\n",
    "print(list(dt.keys()))\n"
   ]
  },
  {
   "cell_type": "code",
   "execution_count": null,
   "metadata": {},
   "outputs": [],
   "source": []
  }
 ],
 "metadata": {
  "interpreter": {
   "hash": "2bc0c7e8f0a52773776ada41d27b7eb9b2890d9e5fc8400f9ac6633f99b58eb7"
  },
  "kernelspec": {
   "display_name": "Python 3.10.4 ('venv-linux': venv)",
   "language": "python",
   "name": "python3"
  },
  "language_info": {
   "codemirror_mode": {
    "name": "ipython",
    "version": 3
   },
   "file_extension": ".py",
   "mimetype": "text/x-python",
   "name": "python",
   "nbconvert_exporter": "python",
   "pygments_lexer": "ipython3",
   "version": "3.10.4"
  },
  "orig_nbformat": 4
 },
 "nbformat": 4,
 "nbformat_minor": 2
}
