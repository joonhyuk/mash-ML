{
 "cells": [
  {
   "cell_type": "code",
   "execution_count": 1,
   "metadata": {},
   "outputs": [
    {
     "ename": "ModuleNotFoundError",
     "evalue": "No module named 'numpy'",
     "output_type": "error",
     "traceback": [
      "\u001b[0;31m---------------------------------------------------------------------------\u001b[0m",
      "\u001b[0;31mModuleNotFoundError\u001b[0m                       Traceback (most recent call last)",
      "Input \u001b[0;32mIn [1]\u001b[0m, in \u001b[0;36m<cell line: 2>\u001b[0;34m()\u001b[0m\n\u001b[1;32m      1\u001b[0m \u001b[38;5;28;01mimport\u001b[39;00m \u001b[38;5;21;01mmath\u001b[39;00m\n\u001b[0;32m----> 2\u001b[0m \u001b[38;5;28;01mimport\u001b[39;00m \u001b[38;5;21;01mnumpy\u001b[39;00m \u001b[38;5;28;01mas\u001b[39;00m \u001b[38;5;21;01mnp\u001b[39;00m\n\u001b[1;32m      3\u001b[0m \u001b[38;5;28;01mimport\u001b[39;00m \u001b[38;5;21;01mtime\u001b[39;00m\n\u001b[1;32m      4\u001b[0m \u001b[38;5;28;01mimport\u001b[39;00m \u001b[38;5;21;01mrandom\u001b[39;00m\n",
      "\u001b[0;31mModuleNotFoundError\u001b[0m: No module named 'numpy'"
     ]
    }
   ],
   "source": [
    "import math\n",
    "import numpy as np\n",
    "import time\n",
    "import random\n",
    "\n",
    "\n",
    "%load_ext autoreload\n",
    "%autoreload 2\n",
    "from tools import *\n",
    "\n",
    "start_time = time.perf_counter_ns()\n",
    "\n",
    "def process_time():\n",
    "    print(f'{(time.perf_counter_ns() - start_time) / 1000} ms')\n",
    "\n",
    "def fib_math(n):\n",
    "    return int((1 / math.sqrt(5)) * (((1 + math.sqrt(5))/2) ** n - ((1 - math.sqrt(5))/2) ** n))\n",
    "\n",
    "def fib_loop(n):\n",
    "    _cur, _next = 0, 1\n",
    "    for _ in range(n):\n",
    "        _cur, _next = _next, _cur + _next\n",
    "    return _cur\n",
    "\n",
    "def fib_recursive(n):\n",
    "    if n <= 1: return n\n",
    "    return fib_recursive(n - 1) + fib_recursive(n - 2)\n",
    "\n",
    "from functools import lru_cache\n",
    "\n",
    "@lru_cache\n",
    "def fib_memoization(n):\n",
    "    if n <=1: return n\n",
    "    return fib_memoization(n - 1) + fib_memoization(n - 2)\n",
    "\n",
    "n = 94\n",
    "\n",
    "\n",
    "print(fib_math(n))\n",
    "print(fib_loop(n))\n",
    "# process_time()\n",
    "\n",
    "print(fib_memoization(n))\n",
    "# process_time()"
   ]
  },
  {
   "cell_type": "code",
   "execution_count": 41,
   "metadata": {},
   "outputs": [
    {
     "name": "stdout",
     "output_type": "stream",
     "text": [
      "23416728348467744\n",
      "37889062373144008\n",
      "61305790721611760\n",
      "99194853094755776\n"
     ]
    }
   ],
   "source": [
    "print(fib_math(80))\n",
    "print(fib_math(81))\n",
    "print(fib_math(82))\n",
    "print(fib_math(83))\n"
   ]
  },
  {
   "cell_type": "code",
   "execution_count": 3,
   "metadata": {},
   "outputs": [
    {
     "name": "stdout",
     "output_type": "stream",
     "text": [
      "24157817 "
     ]
    }
   ],
   "source": [
    "n = 37\n",
    "for _ in range(1):\n",
    "    print(fib_recursive(n), end=' ')"
   ]
  },
  {
   "cell_type": "code",
   "execution_count": 7,
   "metadata": {},
   "outputs": [
    {
     "name": "stdout",
     "output_type": "stream",
     "text": [
      "[39088169, 39088169, 39088169, 39088169, 39088169, 39088169, 39088169, 39088169, 39088169, 39088169, 39088169, 39088169, 39088169, 39088169, 39088169, 39088169]\n"
     ]
    }
   ],
   "source": [
    "from multiprocessing import Pool\n",
    "\n",
    "n = 38\n",
    "with Pool(16) as p:\n",
    "    print(p.map(fib_recursive, (n, n, n, n, n, n, n, n, n, n, n, n, n, n, n, n)))"
   ]
  },
  {
   "cell_type": "markdown",
   "metadata": {},
   "source": [
    "- 멀티프로세싱을 통하면 풀 개수만큼 나눠 가능하다.\n",
    "    - 프로세싱을 멀티플라이 하는 코스트 자체가 제법 되어서 단일 작업보다 좀 더 걸린다."
   ]
  },
  {
   "cell_type": "code",
   "execution_count": 9,
   "metadata": {},
   "outputs": [
    {
     "name": "stdout",
     "output_type": "stream",
     "text": [
      "['right', 'left', 'up', 'down']\n"
     ]
    }
   ],
   "source": [
    "dt = {'right':(1, 0), 'left':(-1, 0), 'up':(0, -1), 'down':(0, 1)}\n",
    "print(list(dt.keys()))\n"
   ]
  },
  {
   "cell_type": "code",
   "execution_count": null,
   "metadata": {},
   "outputs": [],
   "source": []
  }
 ],
 "metadata": {
  "interpreter": {
   "hash": "76662636d1be1c047080b1890a7d387045ae47eac628739851773837a46ca9f4"
  },
  "kernelspec": {
   "display_name": "Python 3 (ipykernel)",
   "language": "python",
   "name": "python3"
  },
  "language_info": {
   "codemirror_mode": {
    "name": "ipython",
    "version": 3
   },
   "file_extension": ".py",
   "mimetype": "text/x-python",
   "name": "python",
   "nbconvert_exporter": "python",
   "pygments_lexer": "ipython3",
   "version": "3.10.5"
  }
 },
 "nbformat": 4,
 "nbformat_minor": 2
}
